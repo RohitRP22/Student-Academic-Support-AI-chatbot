{
 "cells": [
  {
   "cell_type": "code",
   "execution_count": 1,
   "id": "0d8aff5e",
   "metadata": {},
   "outputs": [],
   "source": [
    "import random\n",
    "import pandas as pd"
   ]
  },
  {
   "cell_type": "code",
   "execution_count": 2,
   "id": "a9e185f3",
   "metadata": {},
   "outputs": [],
   "source": [
    "# Set random seed for reproducibility\n",
    "random.seed(42)\n",
    "\n",
    "# Sample student names\n",
    "first_names = [\"Aarav\", \"Vihaan\", \"Aditya\", \"Arjun\", \"Kabir\", \"Ishaan\", \"Rohan\", \"Aryan\", \"Kunal\", \"Siddharth\",\n",
    "               \"Ananya\", \"Isha\", \"Riya\", \"Diya\", \"Aditi\", \"Kavya\", \"Meera\", \"Nisha\", \"Simran\", \"Tanvi\",\n",
    "               \"Priya\", \"Sneha\", \"Pooja\", \"Shreya\", \"Neha\"]\n",
    "last_names = [\"Sharma\", \"Verma\", \"Gupta\", \"Patel\", \"Reddy\", \"Iyer\", \"Das\", \"Nair\", \"Khan\", \"Singh\",\n",
    "              \"Chopra\", \"Joshi\", \"Mishra\", \"Agarwal\", \"Bansal\", \"Saxena\", \"Pandey\", \"Yadav\", \"Dubey\", \"Trivedi\"]\n"
   ]
  },
  {
   "cell_type": "code",
   "execution_count": 3,
   "id": "28f1d972",
   "metadata": {},
   "outputs": [],
   "source": [
    "# Data Structures\n",
    "# Algorithms\n",
    "# Database Management Systems (DBMS)\n",
    "# Operating Systems (OS)\n",
    "# Artificial Intelligence (AI)\n",
    "# Machine Learning (ML)\n",
    "# Subjects\n",
    "subjects = [\"Data Structures\", \"Algorithms\", \"DBMS\", \"OS\",\n",
    "            \"AI\", \"ML\"]\n"
   ]
  },
  {
   "cell_type": "code",
   "execution_count": 4,
   "id": "42d28a50",
   "metadata": {},
   "outputs": [],
   "source": [
    "# Generate synthetic dataset of 50 students\n",
    "students_data = []\n",
    "for i in range(50):\n",
    "    student_name = f\"{random.choice(first_names)} {random.choice(last_names)}\"\n",
    "    subject = random.choice(subjects)\n",
    "    marks = random.randint(40, 100)\n",
    "    assignments_completed = random.randint(5, 10)\n",
    "    attendance = round(random.uniform(60, 100), 2)\n",
    "    \n",
    "    # Remarks based on performance\n",
    "    if marks > 85 and attendance > 85:\n",
    "        remarks = \"Excellent\"\n",
    "    elif marks > 70:\n",
    "        remarks = \"Good\"\n",
    "    elif marks > 50:\n",
    "        remarks = \"Average\"\n",
    "    else:\n",
    "        remarks = \"Needs Improvement\"\n",
    "    \n",
    "    students_data.append([student_name, subject, marks, assignments_completed, attendance, remarks])"
   ]
  },
  {
   "cell_type": "code",
   "execution_count": 5,
   "id": "d3510027",
   "metadata": {},
   "outputs": [],
   "source": [
    "\n",
    "# Create DataFrame\n",
    "df_students = pd.DataFrame(students_data, columns=[\"Student Name\", \"Subject\", \"Marks\", \"Assignments Completed\", \"Attendance %\", \"Remarks\"])\n"
   ]
  },
  {
   "cell_type": "code",
   "execution_count": 9,
   "id": "37e80410",
   "metadata": {},
   "outputs": [
    {
     "data": {
      "text/plain": [
       "(50, 6)"
      ]
     },
     "execution_count": 9,
     "metadata": {},
     "output_type": "execute_result"
    }
   ],
   "source": [
    "df_students.shape"
   ]
  },
  {
   "cell_type": "code",
   "execution_count": 10,
   "id": "cb6db5a4",
   "metadata": {},
   "outputs": [],
   "source": [
    "df_students.to_csv(\"students.csv\", index=False)"
   ]
  },
  {
   "cell_type": "code",
   "execution_count": 11,
   "id": "f9bc5b24",
   "metadata": {},
   "outputs": [],
   "source": [
    "df = pd.read_csv(\"students.csv\")"
   ]
  },
  {
   "cell_type": "code",
   "execution_count": null,
   "id": "c252e99e",
   "metadata": {},
   "outputs": [
    {
     "data": {
      "text/html": [
       "<div>\n",
       "<style scoped>\n",
       "    .dataframe tbody tr th:only-of-type {\n",
       "        vertical-align: middle;\n",
       "    }\n",
       "\n",
       "    .dataframe tbody tr th {\n",
       "        vertical-align: top;\n",
       "    }\n",
       "\n",
       "    .dataframe thead th {\n",
       "        text-align: right;\n",
       "    }\n",
       "</style>\n",
       "<table border=\"1\" class=\"dataframe\">\n",
       "  <thead>\n",
       "    <tr style=\"text-align: right;\">\n",
       "      <th></th>\n",
       "      <th>Student Name</th>\n",
       "      <th>Subject</th>\n",
       "      <th>Marks</th>\n",
       "      <th>Assignments Completed</th>\n",
       "      <th>Attendance %</th>\n",
       "      <th>Remarks</th>\n",
       "    </tr>\n",
       "  </thead>\n",
       "  <tbody>\n",
       "    <tr>\n",
       "      <th>0</th>\n",
       "      <td>Priya Patel</td>\n",
       "      <td>Data Structures</td>\n",
       "      <td>87</td>\n",
       "      <td>7</td>\n",
       "      <td>69.80</td>\n",
       "      <td>Good</td>\n",
       "    </tr>\n",
       "    <tr>\n",
       "      <th>1</th>\n",
       "      <td>Kabir Patel</td>\n",
       "      <td>ML</td>\n",
       "      <td>87</td>\n",
       "      <td>9</td>\n",
       "      <td>63.48</td>\n",
       "      <td>Good</td>\n",
       "    </tr>\n",
       "    <tr>\n",
       "      <th>2</th>\n",
       "      <td>Diya Verma</td>\n",
       "      <td>Data Structures</td>\n",
       "      <td>45</td>\n",
       "      <td>6</td>\n",
       "      <td>69.31</td>\n",
       "      <td>Needs Improvement</td>\n",
       "    </tr>\n",
       "    <tr>\n",
       "      <th>3</th>\n",
       "      <td>Tanvi Sharma</td>\n",
       "      <td>AI</td>\n",
       "      <td>52</td>\n",
       "      <td>10</td>\n",
       "      <td>86.00</td>\n",
       "      <td>Average</td>\n",
       "    </tr>\n",
       "    <tr>\n",
       "      <th>4</th>\n",
       "      <td>Nisha Agarwal</td>\n",
       "      <td>Algorithms</td>\n",
       "      <td>68</td>\n",
       "      <td>9</td>\n",
       "      <td>71.13</td>\n",
       "      <td>Average</td>\n",
       "    </tr>\n",
       "  </tbody>\n",
       "</table>\n",
       "</div>"
      ],
      "text/plain": [
       "    Student Name          Subject  Marks  Assignments Completed  Attendance %  \\\n",
       "0    Priya Patel  Data Structures     87                      7         69.80   \n",
       "1    Kabir Patel               ML     87                      9         63.48   \n",
       "2     Diya Verma  Data Structures     45                      6         69.31   \n",
       "3   Tanvi Sharma               AI     52                     10         86.00   \n",
       "4  Nisha Agarwal       Algorithms     68                      9         71.13   \n",
       "\n",
       "             Remarks  \n",
       "0               Good  \n",
       "1               Good  \n",
       "2  Needs Improvement  \n",
       "3            Average  \n",
       "4            Average  "
      ]
     },
     "execution_count": 13,
     "metadata": {},
     "output_type": "execute_result"
    }
   ],
   "source": [
    "df.head()"
   ]
  },
  {
   "cell_type": "code",
   "execution_count": null,
   "id": "1639183b",
   "metadata": {},
   "outputs": [],
   "source": []
  }
 ],
 "metadata": {
  "kernelspec": {
   "display_name": "student-academic-support-ai-chatbot",
   "language": "python",
   "name": "python3"
  },
  "language_info": {
   "codemirror_mode": {
    "name": "ipython",
    "version": 3
   },
   "file_extension": ".py",
   "mimetype": "text/x-python",
   "name": "python",
   "nbconvert_exporter": "python",
   "pygments_lexer": "ipython3",
   "version": "3.12.11"
  }
 },
 "nbformat": 4,
 "nbformat_minor": 5
}
